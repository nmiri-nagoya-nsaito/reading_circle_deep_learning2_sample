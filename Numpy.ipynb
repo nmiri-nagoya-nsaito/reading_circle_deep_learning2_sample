{
 "cells": [
  {
   "cell_type": "markdown",
   "metadata": {},
   "source": [
    "# まとめ\n",
    "\n",
    "## NumPy とは\n",
    "* 科学計算のための基本的なパッケージ．\n",
    "* 各種数学アルゴリズムや配列計算ライブラリを提供する\n",
    "* このパッケージを利用して提供されているライブラリも各種存在する"
   ]
  },
  {
   "cell_type": "markdown",
   "metadata": {},
   "source": [
    "## 情報源\n",
    "* http://www.numpy.org/"
   ]
  },
  {
   "cell_type": "markdown",
   "metadata": {},
   "source": [
    "# 使い方"
   ]
  },
  {
   "cell_type": "markdown",
   "metadata": {},
   "source": [
    "## インポート"
   ]
  },
  {
   "cell_type": "code",
   "execution_count": 2,
   "metadata": {},
   "outputs": [],
   "source": [
    "# NumPyのインポート\n",
    "import numpy as np"
   ]
  },
  {
   "cell_type": "markdown",
   "metadata": {},
   "source": [
    "## バージョン確認"
   ]
  },
  {
   "cell_type": "code",
   "execution_count": 10,
   "metadata": {},
   "outputs": [
    {
     "name": "stdout",
     "output_type": "stream",
     "text": [
      "1.14.0\n"
     ]
    }
   ],
   "source": [
    "# バージョンの確認\n",
    "print(np.version.version)"
   ]
  },
  {
   "cell_type": "markdown",
   "metadata": {},
   "source": [
    "## ベクトルや行列の生成\n",
    "* ベクトルや行列は np.array メソッドで生成する.このメソッドにより np.ndarrayクラスが生成される．"
   ]
  },
  {
   "cell_type": "markdown",
   "metadata": {},
   "source": [
    "### ベクトル"
   ]
  },
  {
   "cell_type": "code",
   "execution_count": 77,
   "metadata": {},
   "outputs": [
    {
     "name": "stdout",
     "output_type": "stream",
     "text": [
      "x =  [1 2 3]\n",
      "<class 'numpy.ndarray'>\n",
      "<class 'numpy.ndarray'>\n",
      "x.shape =  (3,)\n",
      "x.dim =  1\n"
     ]
    }
   ],
   "source": [
    "# リストから1次元の配列を生成\n",
    "x = np.array([1,2,3])\n",
    "print(\"x = \", x)\n",
    "\n",
    "# データ型(クラス)の確認\n",
    "print(x.__class__)\n",
    "print(type(x))\n",
    "\n",
    "# 配列の形状．1行3列．1は表示されない\n",
    "# (1,3)と表示するのが自然な気がするが，(3,) と表示される\n",
    "print(\"x.shape = \", x.shape)\n",
    "\n",
    "# 次元数\n",
    "print(\"x.dim = \", x.ndim)"
   ]
  },
  {
   "cell_type": "markdown",
   "metadata": {},
   "source": [
    "### 行列\n",
    "* 行列は2次元配列として表される\n",
    "* 行の集まりのように表現"
   ]
  },
  {
   "cell_type": "code",
   "execution_count": 79,
   "metadata": {},
   "outputs": [
    {
     "name": "stdout",
     "output_type": "stream",
     "text": [
      "W = [[1 2 3]\n",
      " [4 5 6]]\n",
      "W.__class = <class 'numpy.ndarray'>\n",
      "type(W) = <class 'numpy.ndarray'>\n",
      "W.shape = (2, 3)\n",
      "type(W.shape) : <class 'tuple'>\n",
      "W.dim = 2\n",
      "type(W.ndim) : <class 'int'>\n",
      "W.dtype = int64\n"
     ]
    }
   ],
   "source": [
    "# リストから行列の生成．ネストされたリストを使う\n",
    "# リスト型変数を使う場合は，[1,2,3] の部分がリスト型変数 t1 に置き換わる\n",
    "W = np.array([[1,2,3],[4,5,6]])\n",
    "print(\"W =\", W)\n",
    "\n",
    "# データ型(クラス)の確認\n",
    "print(\"W.__class =\",W.__class__)\n",
    "print(\"type(W) =\", type(W))\n",
    "\n",
    "# 行列の形状(2行3列). 結果はタプルとして得られる\n",
    "print(\"W.shape =\", W.shape)\n",
    "print(\"type(W.shape) :\", type(W.shape))\n",
    "\n",
    "# 次元数(2)\n",
    "print(\"W.dim =\", W.ndim)\n",
    "print(\"type(W.ndim) :\", type(W.ndim))\n",
    "\n",
    "# 要素のデータ型を調べる\n",
    "print(\"W.dtype =\", W.dtype)"
   ]
  },
  {
   "cell_type": "code",
   "execution_count": null,
   "metadata": {},
   "outputs": [],
   "source": [
    "# 繰り返し\n",
    "X = np.array([[51, 55], [14, 19], [0, 4]])\n",
    "print(\"X =\")\n",
    "print(X)\n",
    "\n",
    "# 行ごと\n",
    "for row in X:\n",
    "    print(row)\n",
    "\n",
    "# 要素ごと\n"
   ]
  },
  {
   "cell_type": "markdown",
   "metadata": {},
   "source": [
    "### テンソル"
   ]
  },
  {
   "cell_type": "markdown",
   "metadata": {},
   "source": [
    "## 要素へのアクセス\n",
    "\n",
    "* あとで読む\n",
    "    * https://note.nkmk.me/python-numpy-condition/"
   ]
  },
  {
   "cell_type": "markdown",
   "metadata": {},
   "source": [
    "### ベクトル"
   ]
  },
  {
   "cell_type": "code",
   "execution_count": 100,
   "metadata": {},
   "outputs": [
    {
     "name": "stdout",
     "output_type": "stream",
     "text": [
      "x =  [1 2 3 4 5 6]\n",
      "x[np.array([0, 2, 4])] = [1 3 5]\n",
      "type(x[np.array([0, 2, 4])]) = <class 'numpy.ndarray'>\n",
      "\n",
      "x[x>4] = [5 6]\n",
      "type(x[x>4]) = <class 'numpy.ndarray'>\n",
      "\n",
      "x[x%2==0] = [2 4 6]\n",
      "x.argmax(axis=0) = 5\n",
      "x.argmin(axis=0) = 0\n"
     ]
    }
   ],
   "source": [
    "x = np.array([1,2,3,4,5,6])\n",
    "print(\"x = \", x)\n",
    "\n",
    "# 指定したインデックスの要素を取り出す\n",
    "# インデックスの指定はリストとして与える\n",
    "print(\"x[np.array([0, 2, 4])] =\", x[np.array([0, 2, 4])])  # [1 3 5]\n",
    "print(\"type(x[np.array([0, 2, 4])]) =\", type(x[np.array([0, 2, 4])]))\n",
    "print()\n",
    "\n",
    "# 条件を満たす要素だけからなる配列の取得\n",
    "\n",
    "# 4 より大きい値をもつ要素だけを取り出す\n",
    "print(\"x[x>4] =\", x[x>4]) # [5 6]\n",
    "print(\"type(x[x>4]) =\", type(x[x>4]))\n",
    "print()\n",
    "\n",
    "# 偶数の値をもつ要素だけを取り出す\n",
    "print(\"x[x%2==0] =\", x[x%2==0])    # [2 4 6]\n",
    "\n",
    "# 最大，最小要素のインデックスを取り出す\n",
    "print(\"x.argmax(axis=0) =\", x.argmax(axis=0))\n",
    "print(\"x.argmin(axis=0) =\", x.argmin(axis=0))"
   ]
  },
  {
   "cell_type": "markdown",
   "metadata": {},
   "source": [
    "### 行列"
   ]
  },
  {
   "cell_type": "code",
   "execution_count": 101,
   "metadata": {},
   "outputs": [
    {
     "name": "stdout",
     "output_type": "stream",
     "text": [
      "X =\n",
      "[[ 0 55]\n",
      " [19 14]\n",
      " [51  4]]\n",
      "X[0] = [ 0 55]\n",
      "X[0][1] = 55\n",
      "X.argmax(axis=0) = [2 0]\n",
      "X.argmax(axis=1) = [1 0 0]\n",
      "X.argmin(axis=0) = [0 2]\n",
      "X.argmin(axis=1) = [0 1 1]\n"
     ]
    }
   ],
   "source": [
    "# 多次元配列の要素へのアクセス\n",
    "X = np.array([[0, 55], [19, 14], [51, 4]])\n",
    "print(\"X =\")\n",
    "print(X)\n",
    "\n",
    "# 行単位\n",
    "print(\"X[0] =\", X[0])           # array([51, 55])\n",
    "\n",
    "# 要素単位\n",
    "print(\"X[0][1] =\", X[0][1])     #55\n",
    "\n",
    "# 最大要素のインデックス\n",
    "print(\"X.argmax(axis=0) =\", X.argmax(axis=0))  # 列方向\n",
    "print(\"X.argmax(axis=1) =\", X.argmax(axis=1))  # 行方向\n",
    "\n",
    "# 最小要素のインデックス\n",
    "print(\"X.argmin(axis=0) =\", X.argmin(axis=0))  # 列方向\n",
    "print(\"X.argmin(axis=1) =\", X.argmin(axis=1))  # 行方向"
   ]
  },
  {
   "cell_type": "markdown",
   "metadata": {},
   "source": [
    "### テンソル"
   ]
  },
  {
   "cell_type": "markdown",
   "metadata": {},
   "source": [
    "## 行列の計算"
   ]
  },
  {
   "cell_type": "markdown",
   "metadata": {},
   "source": [
    "### 行列の要素ごとの(element-wise)演算"
   ]
  },
  {
   "cell_type": "code",
   "execution_count": 18,
   "metadata": {},
   "outputs": [
    {
     "data": {
      "text/plain": [
       "array([[2, 4, 6],\n",
       "       [5, 7, 9]])"
      ]
     },
     "execution_count": 18,
     "metadata": {},
     "output_type": "execute_result"
    }
   ],
   "source": [
    "W = np.array([[1,2,3],[4,5,6]])\n",
    "X = np.array([[0,1,2],[3,4,5]])\n",
    "W + x"
   ]
  },
  {
   "cell_type": "code",
   "execution_count": 19,
   "metadata": {},
   "outputs": [
    {
     "data": {
      "text/plain": [
       "array([[ 0,  2,  6],\n",
       "       [12, 20, 30]])"
      ]
     },
     "execution_count": 19,
     "metadata": {},
     "output_type": "execute_result"
    }
   ],
   "source": [
    "W * X"
   ]
  },
  {
   "cell_type": "markdown",
   "metadata": {},
   "source": [
    "### ブロードキャスト\n",
    "形状の異なる配列同士の計算"
   ]
  },
  {
   "cell_type": "code",
   "execution_count": 20,
   "metadata": {},
   "outputs": [
    {
     "data": {
      "text/plain": [
       "array([[10, 20],\n",
       "       [30, 40]])"
      ]
     },
     "execution_count": 20,
     "metadata": {},
     "output_type": "execute_result"
    }
   ],
   "source": [
    "# ブロードキャストの例．Aと掛け算するために10という値は [[10,10],[10,10]] に拡張される．\n",
    "A = np.array([[1,2],[3,4]])\n",
    "A * 10"
   ]
  },
  {
   "cell_type": "code",
   "execution_count": 22,
   "metadata": {},
   "outputs": [
    {
     "data": {
      "text/plain": [
       "array([[10, 40],\n",
       "       [30, 80]])"
      ]
     },
     "execution_count": 22,
     "metadata": {},
     "output_type": "execute_result"
    }
   ],
   "source": [
    "# ブロードキャストの例2．[10,20]という1次元配列は [[10,20],[10,20]] に拡張される．\n",
    "A = np.array([[1,2],[3,4]])\n",
    "b = np.array([10,20])\n",
    "A * b"
   ]
  },
  {
   "cell_type": "markdown",
   "metadata": {},
   "source": [
    "### ベクトルの内積と行列の積\n",
    "\n",
    "* ベクトルの内積：2つのベクトル間の対応する要素の積の和\n",
    "    * 直感的には**「2つのベクトルがどれだけ同じ方向を向いているか」**を表す\n",
    "\n",
    "    $\n",
    "    \\bf{x}\\cdot\\bf{y} = x_1 y_1 + x_2 y_2 + ... + x_n y_n\n",
    "    $\n",
    "\n",
    "* 行列の積\n",
    "\n",
    "    $\n",
    "    \\begin{equation}\n",
    "        \\begin{pmatrix}\n",
    "            1 & 2\\\\\n",
    "            3 & 4\n",
    "        \\end{pmatrix}\n",
    "        \\begin{pmatrix}\n",
    "            5 & 6\\\\\n",
    "            7 & 8\n",
    "        \\end{pmatrix}\n",
    "        =\n",
    "        \\begin{pmatrix}\n",
    "            a \\cdot c & a \\cdot d\\\\\n",
    "            b \\cdot c & b \\cdot d\n",
    "        \\end{pmatrix}\n",
    "        =\n",
    "        \\begin{pmatrix}\n",
    "            19 & 22\\\\\n",
    "            43 & 50\n",
    "        \\end{pmatrix}\n",
    "    \\end{equation}\n",
    "    $\n",
    "\n",
    "    ただしここで\n",
    "\n",
    "        a = (1,2), b=(3,4), c=(5,7), d=(6,8)\n",
    "\n",
    "    とする"
   ]
  },
  {
   "cell_type": "code",
   "execution_count": 24,
   "metadata": {},
   "outputs": [
    {
     "data": {
      "text/plain": [
       "32"
      ]
     },
     "execution_count": 24,
     "metadata": {},
     "output_type": "execute_result"
    }
   ],
   "source": [
    "# ベクトルの内積\n",
    "a = np.array([1,2,3])\n",
    "b = np.array([4,5,6])\n",
    "np.dot(a,b)"
   ]
  },
  {
   "cell_type": "code",
   "execution_count": 25,
   "metadata": {},
   "outputs": [
    {
     "data": {
      "text/plain": [
       "array([[19, 22],\n",
       "       [43, 50]])"
      ]
     },
     "execution_count": 25,
     "metadata": {},
     "output_type": "execute_result"
    }
   ],
   "source": [
    "# 行列の積\n",
    "A = np.array([[1,2],[3,4]])\n",
    "B = np.array([[5,6],[7,8]])\n",
    "np.dot(A,B)"
   ]
  },
  {
   "cell_type": "markdown",
   "metadata": {},
   "source": [
    "### 配列から別の配列を作る"
   ]
  },
  {
   "cell_type": "code",
   "execution_count": 68,
   "metadata": {},
   "outputs": [
    {
     "name": "stdout",
     "output_type": "stream",
     "text": [
      "x =  [1 2 3 4 5 6]\n",
      "\n",
      "x%2 == 0 : [False  True False  True False  True]\n",
      "type(x%2==0) = <class 'numpy.ndarray'>\n",
      "\n",
      "x > 3 : [False False False  True  True  True]\n",
      "\n",
      "np.where(x%2 == 0, 'Even', 'Odd') : ['Odd' 'Even' 'Odd' 'Even' 'Odd' 'Even']\n"
     ]
    }
   ],
   "source": [
    "x = np.array([1,2,3,4,5,6])\n",
    "print(\"x = \", x)\n",
    "print()\n",
    "\n",
    "# 偶数値をもつ場合は True, 奇数は False の bool 値をもつ配列\n",
    "print(\"x%2 == 0 :\", x%2 == 0)\n",
    "print(\"type(x%2==0) =\", type(x % 2 == 0))\n",
    "print()\n",
    "\n",
    "# 3より大きい場合は True，3以下の場合は False\n",
    "print(\"x > 3 :\", x > 3) # [False False False  True  True  True]\n",
    "print()\n",
    "\n",
    "# 偶数の場合は \"Even\", 奇数の場合は \"Odd\" を要素にもつ配列をつくる\n",
    "print(\"np.where(x%2 == 0, 'Even', 'Odd') :\", np.where(x%2 == 0, 'Even', 'Odd'))\n"
   ]
  },
  {
   "cell_type": "markdown",
   "metadata": {},
   "source": [
    "### ランダムな要素の配列を作る\n",
    "* https://docs.scipy.org/doc/numpy/reference/routines.random.html\n",
    "* https://note.nkmk.me/python-numpy-random/\n",
    "\n",
    "* 様々な分布の乱数を作ることができる\n",
    "    * 一様分布の乱数生成\n",
    "        * numpy.random.rand(): 0.0以上、1.0未満\n",
    "        * numpy.random.random_sample(): 0.0以上、1.0未満\n",
    "        * numpy.random.randint(): 任意の範囲の整数\n",
    "    * 正規分布の乱数生成\n",
    "        * numpy.random.randn(): 平均0、標準偏差1\n",
    "        * numpy.random.normal(): 任意の平均、標準偏差\n",
    "    * 二項分布の乱数生成\n",
    "        * numpy.random.binomial()\n",
    "    * ベータ分布の乱数生成\n",
    "        * numpy.random.beta()\n",
    "    * ガンマ分布の乱数生成\n",
    "        * numpy.random.gamma()\n",
    "    * カイ二乗分布の乱数\n",
    "        * numpy.random.chisquare()"
   ]
  },
  {
   "cell_type": "code",
   "execution_count": 87,
   "metadata": {
    "scrolled": true
   },
   "outputs": [
    {
     "name": "stdout",
     "output_type": "stream",
     "text": [
      "b1 = [ 0.65579924  0.1531282  -0.18656358  0.2512131 ]\n",
      "\n",
      "x =\n",
      "[[-0.19069458 -0.30022835]\n",
      " [ 0.20668796 -0.14204594]\n",
      " [-1.50811987  0.64099597]\n",
      " [-1.30607681  0.14925832]\n",
      " [ 1.19089877 -0.57915184]\n",
      " [-1.50098463  0.51237708]\n",
      " [ 2.96426386  2.08430497]\n",
      " [ 0.22148915  0.2014916 ]\n",
      " [ 0.46757095  0.11378885]\n",
      " [-1.74011884 -0.03334501]]\n",
      "\n",
      "randn(3<=r<5) : 3.0304299472750262\n"
     ]
    }
   ],
   "source": [
    "# ランダムな値をもつ4個の要素からなるベクトルを生成\n",
    "# 値は平均0、標準偏差1の標準偏差をもつ正規分布に従う\n",
    "b1 = np.random.randn(4)\n",
    "print(\"b1 =\", b1)\n",
    "print()\n",
    "\n",
    "# （10,2）の行列を生成\n",
    "x = np.random.randn(10,2)\n",
    "print(\"x =\")\n",
    "print(x)\n",
    "print()\n",
    "\n",
    "# 3以上、5未満の乱数を取得\n",
    "print(\"randn(3<=r<5) :\", (5 - 3) * np.random.rand() + 3)"
   ]
  },
  {
   "cell_type": "markdown",
   "metadata": {},
   "source": [
    "### 行列の形状変換"
   ]
  },
  {
   "cell_type": "code",
   "execution_count": 108,
   "metadata": {},
   "outputs": [
    {
     "name": "stdout",
     "output_type": "stream",
     "text": [
      "W =\n",
      "[[1 2 3]\n",
      " [4 5 6]]\n",
      "\n",
      "W.flatten() = [1 2 3 4 5 6]\n",
      "W.shape = (6,)\n",
      "\n",
      "W.reshape(1,6) =\n",
      "[[1 2 3 4 5 6]]\n",
      "W.shape = (1, 6)\n",
      "\n",
      "W.reshape(3,2) =\n",
      "[[1 2]\n",
      " [3 4]\n",
      " [5 6]]\n",
      "W.shape = (3, 2)\n"
     ]
    }
   ],
   "source": [
    "W = np.array([[1,2,3],[4,5,6]])\n",
    "print(\"W =\")\n",
    "print(W)\n",
    "print()\n",
    "\n",
    "# 多次元配列を1次元配列化\n",
    "W = W.flatten()\n",
    "print(\"W.flatten() =\", W)    # [1 2 3 4 5 6]\n",
    "print(\"W.shape =\", W.shape)  #(6,)\n",
    "print()\n",
    "\n",
    "# 1次元配列を2次元配列化\n",
    "# (6,) を (1,6) へ変換\n",
    "W = W.reshape(1,6)\n",
    "print(\"W.reshape(1,6) =\")\n",
    "print(W)\n",
    "print(\"W.shape =\", W.shape)\n",
    "print()\n",
    "\n",
    "# 行列の形状を変形\n",
    "# (1,6) を (3,2) へ変換\n",
    "W = W.reshape(3,2)\n",
    "print(\"W.reshape(3,2) =\")\n",
    "print(W)\n",
    "print(\"W.shape =\", W.shape)"
   ]
  },
  {
   "cell_type": "markdown",
   "metadata": {},
   "source": [
    "### ゼロ行列の生成"
   ]
  },
  {
   "cell_type": "code",
   "execution_count": 129,
   "metadata": {},
   "outputs": [
    {
     "name": "stdout",
     "output_type": "stream",
     "text": [
      "np.zeros(3) = \n",
      "[0. 0. 0.]\n",
      "\n",
      "np.zeros((5,3)) = \n",
      "[[0. 0. 0.]\n",
      " [0. 0. 0.]\n",
      " [0. 0. 0.]\n",
      " [0. 0. 0.]\n",
      " [0. 0. 0.]]\n",
      "\n",
      "np.zeros([3,2]) = \n",
      "[[0. 0.]\n",
      " [0. 0.]\n",
      " [0. 0.]]\n",
      "\n",
      "W =\n",
      "[[1 2 3]\n",
      " [4 5 6]]\n",
      "W.shape = (2, 3)\n",
      "\n",
      "WZ = np.zeros_like(W) =\n",
      "[[0 0 0]\n",
      " [0 0 0]]\n",
      "WZ.shape = (2, 3)\n"
     ]
    }
   ],
   "source": [
    "print(\"np.zeros(3) = \\n{z}\\n\".format(z=np.zeros(3)))\n",
    "print(\"np.zeros((5,3)) = \\n{z}\\n\".format(z=np.zeros((5,3))))\n",
    "print(\"np.zeros([3,2]) = \\n{z}\\n\".format(z=np.zeros([3,2])))\n",
    "\n",
    "W = np.array([[1,2,3],[4,5,6]])\n",
    "print(\"W =\\n{w}\".format(w=W))\n",
    "print(\"W.shape = {ws}\\n\".format(ws=W.shape))\n",
    "\n",
    "# 指定した配列と同じサイズのゼロ行列を生成\n",
    "WZ = np.zeros_like(W)\n",
    "print(\"WZ = np.zeros_like(W) =\\n{wz}\".format(wz=WZ))\n",
    "print(\"WZ.shape =\", WZ.shape)"
   ]
  },
  {
   "cell_type": "markdown",
   "metadata": {},
   "source": [
    "### 配列のインデックスの並び替え"
   ]
  },
  {
   "cell_type": "code",
   "execution_count": 3,
   "metadata": {},
   "outputs": [
    {
     "data": {
      "text/plain": [
       "array([1, 2, 0])"
      ]
     },
     "execution_count": 3,
     "metadata": {},
     "output_type": "execute_result"
    }
   ],
   "source": [
    "# インデックスを小さい順にソートする\n",
    "import numpy as np\n",
    "x = np.array([100, -20, 2])\n",
    "x.argsort()"
   ]
  },
  {
   "cell_type": "markdown",
   "metadata": {},
   "source": [
    "### 有効数字3桁で表示"
   ]
  },
  {
   "cell_type": "code",
   "execution_count": 4,
   "metadata": {},
   "outputs": [
    {
     "name": "stdout",
     "output_type": "stream",
     "text": [
      "[1.235 2.346]\n"
     ]
    }
   ],
   "source": [
    "np.set_printoptions(precision=3)\n",
    "x = np.array([1.23456, 2.34567])\n",
    "print(x)"
   ]
  },
  {
   "cell_type": "markdown",
   "metadata": {},
   "source": [
    "### 特異値分解を行う"
   ]
  },
  {
   "cell_type": "code",
   "execution_count": 11,
   "metadata": {},
   "outputs": [
    {
     "name": "stdout",
     "output_type": "stream",
     "text": [
      "U =\n",
      "[[ 3.409e-01  3.331e-16 -1.887e-15 -1.206e-01  1.110e-16 -9.323e-01\n",
      "  -1.996e-16]\n",
      " [ 0.000e+00 -5.975e-01 -1.804e-01  0.000e+00 -7.813e-01  0.000e+00\n",
      "   0.000e+00]\n",
      " [ 4.362e-01  1.665e-16 -8.882e-16 -5.089e-01  6.939e-17  2.253e-01\n",
      "   7.071e-01]\n",
      " [-1.110e-15 -4.977e-01 -6.805e-01  2.637e-16  5.378e-01  5.551e-16\n",
      "  -8.877e-18]\n",
      " [ 4.362e-01  1.564e-16 -8.001e-16 -5.089e-01  6.513e-17  2.253e-01\n",
      "  -7.071e-01]\n",
      " [ 7.094e-01  1.564e-16 -8.001e-16  6.837e-01  6.513e-17  1.709e-01\n",
      "   2.317e-17]\n",
      " [ 1.554e-15 -6.287e-01  7.101e-01 -3.886e-16  3.168e-01 -1.221e-15\n",
      "   1.143e-17]]\n",
      "S =\n",
      "[3.167e+00 3.167e+00 2.703e+00 2.703e+00 1.514e+00 1.514e+00 1.594e-16]\n",
      "V =\n",
      "[[-0.000e+00  5.975e-01 -6.661e-16  4.977e-01 -8.327e-16  1.166e-15\n",
      "   6.287e-01]\n",
      " [-3.409e-01  6.661e-16 -4.362e-01  0.000e+00 -4.362e-01 -7.094e-01\n",
      "   0.000e+00]\n",
      " [-1.206e-01 -2.609e-15 -5.089e-01  0.000e+00 -5.089e-01  6.837e-01\n",
      "   0.000e+00]\n",
      " [ 0.000e+00 -1.804e-01  1.943e-16 -6.805e-01  2.637e-16 -3.608e-16\n",
      "   7.101e-01]\n",
      " [-9.323e-01  1.110e-16  2.253e-01  0.000e+00  2.253e-01  1.709e-01\n",
      "   0.000e+00]\n",
      " [ 0.000e+00 -7.813e-01  7.772e-16  5.378e-01  1.221e-15 -1.554e-15\n",
      "   3.168e-01]\n",
      " [ 0.000e+00  3.823e-16 -7.071e-01 -8.327e-17  7.071e-01  5.684e-17\n",
      "  -2.429e-16]]\n"
     ]
    }
   ],
   "source": [
    "import numpy as np\n",
    "\n",
    "W = np.array([\n",
    " [0.,    1.807, 0.,    0.,    0.,    0.,    0.   ],\n",
    " [1.807, 0.,    0.807, 0.,    0.807, 0.807, 0.   ],\n",
    " [0.,    0.807, 0.,    1.807, 0.,    0.,    0.   ],\n",
    " [0.,    0.,    1.807, 0.,    1.807, 0.,    0.   ],\n",
    " [0.,    0.807, 0.,    1.807, 0.,    0.,    0.   ],\n",
    " [0.,    0.807, 0.,    0.,    0.,    0.,    2.807],\n",
    " [0.,    0.,    0.,    0.,    0.,    2.807, 0.   ]\n",
    "])\n",
    "U, S, V = np.linalg.svd(W)\n",
    "print('U =')\n",
    "print(U)\n",
    "print('S =')\n",
    "print(S)\n",
    "print('V =')\n",
    "print(V)"
   ]
  }
 ],
 "metadata": {
  "kernelspec": {
   "display_name": "Python 3",
   "language": "python",
   "name": "python3"
  },
  "language_info": {
   "codemirror_mode": {
    "name": "ipython",
    "version": 3
   },
   "file_extension": ".py",
   "mimetype": "text/x-python",
   "name": "python",
   "nbconvert_exporter": "python",
   "pygments_lexer": "ipython3",
   "version": "3.6.4"
  },
  "toc": {
   "base_numbering": 1,
   "nav_menu": {},
   "number_sections": true,
   "sideBar": true,
   "skip_h1_title": false,
   "title_cell": "Table of Contents",
   "title_sidebar": "Contents",
   "toc_cell": false,
   "toc_position": {
    "height": "565px",
    "left": "58px",
    "top": "110px",
    "width": "259px"
   },
   "toc_section_display": true,
   "toc_window_display": true
  }
 },
 "nbformat": 4,
 "nbformat_minor": 2
}
