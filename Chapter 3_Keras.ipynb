{
 "cells": [
  {
   "cell_type": "markdown",
   "metadata": {},
   "source": [
    "# Chap3 の内容を1時間で Keras に置き換える\n",
    "\n",
    "## 参考\n",
    "* [Keras Documentation](https://keras.io/ja/)\n",
    "  * Kerasの公式ドキュメントの翻訳\n",
    "* [nzw0301/keras-examples (GitHub)](https://github.com/nzw0301/keras-examples/blob/master/CBoW.ipynb)\n",
    "  * KerasでCBOWを実装した（らしい）例\n",
    "* [oreilly-japan/deep-learning-from-scratch-2(GitHub)](https://github.com/oreilly-japan/deep-learning-from-scratch-2.git)\n",
    "  * 「ゼロから作る Deep Learning 2」のサンプルコード"
   ]
  },
  {
   "cell_type": "code",
   "execution_count": 28,
   "metadata": {},
   "outputs": [],
   "source": [
    "import numpy as np"
   ]
  },
  {
   "cell_type": "code",
   "execution_count": 56,
   "metadata": {},
   "outputs": [
    {
     "name": "stdout",
     "output_type": "stream",
     "text": [
      "corpus.shape=(300,)\n",
      "corpus = ['\\ufeffProject Gutenberg’s Alice’s Adventures in Wonderland, by Lewis Carroll\\n', 'This eBook is for the use of anyone anywhere at no cost and with\\n', 'almost no restrictions whatsoever.  You may copy it, give it away or\\n', 're-use it under the terms of the Project Gutenberg License included\\n', 'with this eBook or online at www.gutenberg.org\\n', 'Title: Alice’s Adventures in Wonderland\\n', 'Author: Lewis Carroll\\n', 'Posting Date: June 25, 2008 [EBook #11]\\n', 'Release Date: March, 1994\\n', 'Last Updated: October 6, 2016\\n', 'Character set encoding: UTF-8\\n', '*** START OF THIS PROJECT GUTENBERG EBOOK ALICE’S ADVENTURES IN WONDERLAND ***\\n', 'ALICE’S ADVENTURES IN WONDERLAND\\n', 'THE MILLENNIUM FULCRUM EDITION 3.0\\n', 'CHAPTER I. Down the Rabbit-Hole\\n', 'Alice was beginning to get very tired of sitting by her sister on the\\n', 'bank, and of having nothing to do: once or twice she had peeped into the\\n', 'book her sister was reading, but it had no pictures or conversations in\\n', 'it, ‘and what is the use of a book,’ thought Alice ‘without pictures or\\n', 'So she was considering in her own mind (as well as she could, for the\\n', 'hot day made her feel very sleepy and stupid), whether the pleasure\\n', 'of making a daisy-chain would be worth the trouble of getting up and\\n', 'picking the daisies, when suddenly a White Rabbit with pink eyes ran\\n', 'close by her.\\n', 'There was nothing so VERY remarkable in that; nor did Alice think it so\\n', 'VERY much out of the way to hear the Rabbit say to itself, ‘Oh dear!\\n', 'Oh dear! I shall be late!’ (when she thought it over afterwards, it\\n', 'occurred to her that she ought to have wondered at this, but at the time\\n', 'it all seemed quite natural); but when the Rabbit actually TOOK A WATCH\\n', 'OUT OF ITS WAISTCOAT-POCKET, and looked at it, and then hurried on,\\n', 'Alice started to her feet, for it flashed across her mind that she had\\n', 'never before seen a rabbit with either a waistcoat-pocket, or a watch\\n', 'to take out of it, and burning with curiosity, she ran across the field\\n', 'after it, and fortunately was just in time to see it pop down a large\\n', 'rabbit-hole under the hedge.\\n', 'In another moment down went Alice after it, never once considering how\\n', 'in the world she was to get out again.\\n', 'The rabbit-hole went straight on like a tunnel for some way, and then\\n', 'dipped suddenly down, so suddenly that Alice had not a moment to think\\n', 'about stopping herself before she found herself falling down a very deep\\n', 'Either the well was very deep, or she fell very slowly, for she had\\n', 'plenty of time as she went down to look about her and to wonder what was\\n', 'going to happen next. First, she tried to look down and make out what\\n', 'she was coming to, but it was too dark to see anything; then she\\n', 'looked at the sides of the well, and noticed that they were filled with\\n', 'cupboards and book-shelves; here and there she saw maps and pictures\\n', 'hung upon pegs. She took down a jar from one of the shelves as\\n', 'she passed; it was labelled ‘ORANGE MARMALADE’, but to her great\\n', 'disappointment it was empty: she did not like to drop the jar for fear\\n', 'of killing somebody, so managed to put it into one of the cupboards as\\n', 'she fell past it.\\n', '‘Well!’ thought Alice to herself, ‘after such a fall as this, I shall\\n', 'think nothing of tumbling down stairs! How brave they’ll all think me at\\n', 'home! Why, I wouldn’t say anything about it, even if I fell off the top\\n', 'of the house!’ (Which was very likely true.)\\n', 'Down, down, down. Would the fall NEVER come to an end! ‘I wonder how\\n', 'many miles I’ve fallen by this time?’ she said aloud. ‘I must be getting\\n', 'somewhere near the centre of the earth. Let me see: that would be four\\n', 'thousand miles down, I think--’ (for, you see, Alice had learnt several\\n', 'things of this sort in her lessons in the schoolroom, and though this\\n', 'was not a VERY good opportunity for showing off her knowledge, as there\\n', 'was no one to listen to her, still it was good practice to say it over)\\n', '‘--yes, that’s about the right distance--but then I wonder what Latitude\\n', 'or Longitude I’ve got to?’ (Alice had no idea what Latitude was, or\\n', 'Longitude either, but thought they were nice grand words to say.)\\n', 'Presently she began again. ‘I wonder if I shall fall right THROUGH the\\n', 'earth! How funny it’ll seem to come out among the people that walk with\\n', 'their heads downward! The Antipathies, I think--’ (she was rather glad\\n', 'there WAS no one listening, this time, as it didn’t sound at all the\\n', 'right word) ‘--but I shall have to ask them what the name of the country\\n', 'is, you know. Please, Ma’am, is this New Zealand or Australia?’ (and\\n', 'she tried to curtsey as she spoke--fancy CURTSEYING as you’re falling\\n', 'through the air! Do you think you could manage it?) ‘And what an\\n', 'ignorant little girl she’ll think me for asking! No, it’ll never do to\\n', 'ask: perhaps I shall see it written up somewhere.’\\n', 'Down, down, down. There was nothing else to do, so Alice soon began\\n', 'talking again. ‘Dinah’ll miss me very much to-night, I should think!’\\n', '(Dinah was the cat.) ‘I hope they’ll remember her saucer of milk at\\n', 'tea-time. Dinah my dear! I wish you were down here with me! There are no\\n', 'mice in the air, I’m afraid, but you might catch a bat, and that’s very\\n', 'like a mouse, you know. But do cats eat bats, I wonder?’ And here Alice\\n', 'began to get rather sleepy, and went on saying to herself, in a dreamy\\n', 'sort of way, ‘Do cats eat bats? Do cats eat bats?’ and sometimes, ‘Do\\n', 'bats eat cats?’ for, you see, as she couldn’t answer either question,\\n', 'it didn’t much matter which way she put it. She felt that she was dozing\\n', 'off, and had just begun to dream that she was walking hand in hand with\\n', 'Dinah, and saying to her very earnestly, ‘Now, Dinah, tell me the truth:\\n', 'did you ever eat a bat?’ when suddenly, thump! thump! down she came upon\\n', 'a heap of sticks and dry leaves, and the fall was over.\\n', 'Alice was not a bit hurt, and she jumped up on to her feet in a moment:\\n', 'she looked up, but it was all dark overhead; before her was another\\n', 'long passage, and the White Rabbit was still in sight, hurrying down it.\\n', 'There was not a moment to be lost: away went Alice like the wind, and\\n', 'was just in time to hear it say, as it turned a corner, ‘Oh my ears\\n', 'and whiskers, how late it’s getting!’ She was close behind it when she\\n', 'turned the corner, but the Rabbit was no longer to be seen: she found\\n', 'herself in a long, low hall, which was lit up by a row of lamps hanging\\n', 'from the roof.\\n', 'There were doors all round the hall, but they were all locked; and when\\n', 'Alice had been all the way down one side and up the other, trying every\\n', 'door, she walked sadly down the middle, wondering how she was ever to\\n', 'get out again.\\n', 'Suddenly she came upon a little three-legged table, all made of solid\\n', 'glass; there was nothing on it except a tiny golden key, and Alice’s\\n', 'first thought was that it might belong to one of the doors of the hall;\\n', 'but, alas! either the locks were too large, or the key was too small,\\n', 'but at any rate it would not open any of them. However, on the second\\n', 'time round, she came upon a low curtain she had not noticed before, and\\n', 'behind it was a little door about fifteen inches high: she tried the\\n', 'little golden key in the lock, and to her great delight it fitted!\\n', 'Alice opened the door and found that it led into a small passage, not\\n', 'much larger than a rat-hole: she knelt down and looked along the passage\\n', 'into the loveliest garden you ever saw. How she longed to get out of\\n', 'that dark hall, and wander about among those beds of bright flowers and\\n', 'those cool fountains, but she could not even get her head through the\\n', 'doorway; ‘and even if my head would go through,’ thought poor Alice, ‘it\\n', 'would be of very little use without my shoulders. Oh, how I wish I could\\n', 'shut up like a telescope! I think I could, if I only knew how to begin.’\\n', 'For, you see, so many out-of-the-way things had happened lately,\\n', 'that Alice had begun to think that very few things indeed were really\\n', 'There seemed to be no use in waiting by the little door, so she went\\n', 'back to the table, half hoping she might find another key on it, or at\\n', 'any rate a book of rules for shutting people up like telescopes: this\\n', 'time she found a little bottle on it, [‘which certainly was not here\\n', 'before,’ said Alice,) and round the neck of the bottle was a paper\\n', 'label, with the words ‘DRINK ME’ beautifully printed on it in large\\n', 'It was all very well to say ‘Drink me,’ but the wise little Alice was\\n', 'not going to do THAT in a hurry. ‘No, I’ll look first,’ she said, ‘and\\n', 'see whether it’s marked “poison” or not’; for she had read several nice\\n', 'little histories about children who had got burnt, and eaten up by wild\\n', 'beasts and other unpleasant things, all because they WOULD not remember\\n', 'the simple rules their friends had taught them: such as, that a red-hot\\n', 'poker will burn you if you hold it too long; and that if you cut your\\n', 'finger VERY deeply with a knife, it usually bleeds; and she had never\\n', 'forgotten that, if you drink much from a bottle marked ‘poison,’ it is\\n', 'almost certain to disagree with you, sooner or later.\\n', 'However, this bottle was NOT marked ‘poison,’ so Alice ventured to taste\\n', 'it, and finding it very nice, (it had, in fact, a sort of mixed flavour\\n', 'of cherry-tart, custard, pine-apple, roast turkey, toffee, and hot\\n', 'buttered toast,) she very soon finished it off.\\n', '  *    *    *    *    *    *    *\\n', '    *    *    *    *    *    *\\n', '  *    *    *    *    *    *    *\\n', '‘What a curious feeling!’ said Alice; ‘I must be shutting up like a\\n', 'And so it was indeed: she was now only ten inches high, and her face\\n', 'brightened up at the thought that she was now the right size for going\\n', 'through the little door into that lovely garden. First, however, she\\n', 'waited for a few minutes to see if she was going to shrink any further:\\n', 'she felt a little nervous about this; ‘for it might end, you know,’ said\\n', 'Alice to herself, ‘in my going out altogether, like a candle. I wonder\\n', 'what I should be like then?’ And she tried to fancy what the flame of a\\n', 'candle is like after the candle is blown out, for she could not remember\\n', 'ever having seen such a thing.\\n', 'After a while, finding that nothing more happened, she decided on going\\n', 'into the garden at once; but, alas for poor Alice! when she got to the\\n', 'door, she found she had forgotten the little golden key, and when she\\n', 'went back to the table for it, she found she could not possibly reach\\n', 'it: she could see it quite plainly through the glass, and she tried her\\n', 'best to climb up one of the legs of the table, but it was too slippery;\\n', 'and when she had tired herself out with trying, the poor little thing\\n', 'sat down and cried.\\n', '‘Come, there’s no use in crying like that!’ said Alice to herself,\\n', 'rather sharply; ‘I advise you to leave off this minute!’ She generally\\n', 'gave herself very good advice, (though she very seldom followed it),\\n', 'and sometimes she scolded herself so severely as to bring tears into\\n', 'her eyes; and once she remembered trying to box her own ears for having\\n', 'cheated herself in a game of croquet she was playing against herself,\\n', 'for this curious child was very fond of pretending to be two people.\\n', '‘But it’s no use now,’ thought poor Alice, ‘to pretend to be two people!\\n', 'Why, there’s hardly enough of me left to make ONE respectable person!’\\n', 'Soon her eye fell on a little glass box that was lying under the table:\\n', 'she opened it, and found in it a very small cake, on which the words\\n', '‘EAT ME’ were beautifully marked in currants. ‘Well, I’ll eat it,’ said\\n', 'Alice, ‘and if it makes me grow larger, I can reach the key; and if it\\n', 'makes me grow smaller, I can creep under the door; so either way I’ll\\n', 'get into the garden, and I don’t care which happens!’\\n', 'She ate a little bit, and said anxiously to herself, ‘Which way? Which\\n', 'way?’, holding her hand on the top of her head to feel which way it was\\n', 'growing, and she was quite surprised to find that she remained the same\\n', 'size: to be sure, this generally happens when one eats cake, but Alice\\n', 'had got so much into the way of expecting nothing but out-of-the-way\\n', 'things to happen, that it seemed quite dull and stupid for life to go on\\n', 'in the common way.\\n', 'So she set to work, and very soon finished off the cake.\\n', '  *    *    *    *    *    *    *\\n', '    *    *    *    *    *    *\\n', '  *    *    *    *    *    *    *\\n', 'CHAPTER II. The Pool of Tears\\n', '‘Curiouser and curiouser!’ cried Alice (she was so much surprised, that\\n', 'for the moment she quite forgot how to speak good English); ‘now I’m\\n', 'opening out like the largest telescope that ever was! Good-bye, feet!’\\n', '(for when she looked down at her feet, they seemed to be almost out of\\n', 'sight, they were getting so far off). ‘Oh, my poor little feet, I wonder\\n', 'who will put on your shoes and stockings for you now, dears? I’m sure\\n', '_I_ shan’t be able! I shall be a great deal too far off to trouble\\n', 'myself about you: you must manage the best way you can;--but I must be\\n', 'kind to them,’ thought Alice, ‘or perhaps they won’t walk the way I want\\n', 'to go! Let me see: I’ll give them a new pair of boots every Christmas.’\\n', 'And she went on planning to herself how she would manage it. ‘They must\\n', 'go by the carrier,’ she thought; ‘and how funny it’ll seem, sending\\n', 'presents to one’s own feet! And how odd the directions will look!\\n', '     ALICE’S RIGHT FOOT, ESQ.\\n', '       HEARTHRUG,\\n', '         NEAR THE FENDER,\\n', '           (WITH ALICE’S LOVE).\\n', 'Oh dear, what nonsense I’m talking!’\\n', 'Just then her head struck against the roof of the hall: in fact she was\\n', 'now more than nine feet high, and she at once took up the little golden\\n', 'key and hurried off to the garden door.\\n', 'Poor Alice! It was as much as she could do, lying down on one side, to\\n', 'look through into the garden with one eye; but to get through was more\\n', 'hopeless than ever: she sat down and began to cry again.\\n', '‘You ought to be ashamed of yourself,’ said Alice, ‘a great girl like\\n', 'you,’ (she might well say this), ‘to go on crying in this way! Stop this\\n', 'moment, I tell you!’ But she went on all the same, shedding gallons of\\n', 'tears, until there was a large pool all round her, about four inches\\n', 'deep and reaching half down the hall.\\n', 'After a time she heard a little pattering of feet in the distance, and\\n', 'she hastily dried her eyes to see what was coming. It was the White\\n', 'Rabbit returning, splendidly dressed, with a pair of white kid gloves in\\n', 'one hand and a large fan in the other: he came trotting along in a great\\n', 'hurry, muttering to himself as he came, ‘Oh! the Duchess, the Duchess!\\n', 'Oh! won’t she be savage if I’ve kept her waiting!’ Alice felt so\\n', 'desperate that she was ready to ask help of any one; so, when the Rabbit\\n', 'came near her, she began, in a low, timid voice, ‘If you please, sir--’\\n', 'The Rabbit started violently, dropped the white kid gloves and the fan,\\n', 'and skurried away into the darkness as hard as he could go.\\n']\n",
      "corpus.shape=(227,)\n"
     ]
    }
   ],
   "source": [
    "from keras.utils.data_utils import get_file\n",
    "\n",
    "path = get_file('alice.txt', origin='http://www.gutenberg.org/files/11/11-0.txt')\n",
    "corpus = open(path).readlines()[:300]\n",
    "#print(\"corpus = {cps}\".format(cps=corpus))\n",
    "print(\"corpus.shape={len}\".format(len=np.array(corpus).shape))\n",
    "corpus = [sentence for sentence in corpus if sentence.count(' ') >= 2]\n",
    "print(\"corpus = {cps}\".format(cps=corpus))\n",
    "print(\"corpus.shape={len}\".format(len=np.array(corpus).shape))"
   ]
  },
  {
   "cell_type": "code",
   "execution_count": 57,
   "metadata": {},
   "outputs": [
    {
     "name": "stdout",
     "output_type": "stream",
     "text": [
      "corpus = [[348, 349, 65, 115, 10, 116, 57, 196, 197], [22, 117, 66, 17, 1, 67, 8, 350, 351, 29, 38, 352, 4, 27], [146, 38, 353, 354, 16, 355, 356, 5, 198, 5, 147, 32], [357, 67, 5, 118, 1, 358, 8, 1, 199, 148, 359, 360], [27, 22, 117, 32, 361, 29, 362, 148, 363], [364, 65, 115, 10, 116], [365, 196, 197], [366, 200, 367, 368, 369, 117, 370], [371, 200, 372, 373], [374, 375, 376, 377, 378], [379, 201, 380, 381, 382], [383, 8, 22, 199, 148, 117, 65, 115, 10, 116], [65, 115, 10, 116], [1, 384, 385, 386, 387, 388], [202, 13, 15, 1, 39, 119], [11, 6, 389, 3, 58, 19, 203, 8, 390, 57, 12, 204, 20, 1], [391, 4, 8, 149, 68, 3, 59, 91, 32, 392, 2, 21, 393, 43, 1], [120, 12, 204, 6, 394, 18, 5, 21, 38, 150, 32, 395, 10], [5, 75, 44, 66, 1, 67, 8, 7, 120, 9, 49, 11, 396, 150, 32], [25, 2, 6, 205, 10, 12, 151, 206, 23, 92, 23, 2, 50, 17, 1], [152, 397, 207, 12, 208, 19, 209, 4, 210, 211, 1, 398], [8, 399, 7, 400, 401, 60, 24, 402, 1, 212, 8, 121, 34, 4], [403, 1, 404, 40, 93, 7, 94, 39, 27, 405, 153, 213], [214, 57, 12], [45, 6, 68, 25, 19, 406, 10, 14, 407, 154, 11, 46, 5, 25], [19, 61, 30, 8, 1, 28, 3, 215, 1, 39, 69, 3, 408, 122, 123], [124, 123, 13, 76, 24, 216, 9, 40, 2, 49, 5, 155, 409, 5], [410, 3, 12, 14, 2, 217, 3, 218, 411, 29, 22, 18, 29, 1, 51], [5, 41, 125, 95, 412, 18, 40, 1, 39, 413, 156, 7, 219], [30, 8, 414, 220, 221, 4, 96, 29, 5, 4, 77, 222, 20], [11, 223, 3, 12, 62, 17, 5, 415, 224, 12, 206, 14, 2, 21], [97, 98, 157, 7, 39, 27, 78, 7, 220, 221, 32, 7, 219], [3, 416, 30, 8, 5, 4, 417, 27, 418, 2, 213, 224, 1, 419], [99, 5, 4, 420, 6, 126, 10, 51, 3, 42, 5, 421, 15, 7, 100], [39, 119, 118, 1, 422], [10, 158, 79, 15, 53, 11, 99, 5, 97, 91, 205, 35], [10, 1, 423, 2, 6, 3, 58, 30, 101], [1, 39, 119, 53, 424, 20, 36, 7, 425, 17, 426, 28, 4, 77], [427, 93, 15, 25, 93, 14, 11, 21, 31, 7, 79, 3, 46], [52, 428, 33, 98, 2, 70, 33, 225, 15, 7, 19, 159], [78, 1, 92, 6, 19, 159, 32, 2, 127, 19, 429, 17, 2, 21], [430, 8, 51, 23, 2, 53, 15, 3, 102, 52, 12, 4, 3, 71, 44, 6], [80, 3, 226, 431, 128, 2, 103, 3, 102, 15, 4, 227, 30, 44], [2, 6, 228, 3, 18, 5, 6, 81, 160, 3, 42, 229, 77, 2], [96, 29, 1, 432, 8, 1, 92, 4, 230, 14, 72, 54, 433, 27], [231, 4, 120, 232, 129, 4, 45, 2, 233, 434, 4, 150], [435, 130, 436, 2, 156, 15, 7, 234, 161, 37, 8, 1, 232, 23], [2, 437, 5, 6, 438, 439, 440, 18, 3, 12, 104], [441, 5, 6, 442, 2, 154, 31, 36, 3, 443, 1, 234, 17, 444], [8, 445, 446, 25, 447, 3, 162, 5, 43, 37, 8, 1, 231, 23], [2, 127, 448, 5], [235, 9, 49, 11, 3, 33, 449, 163, 7, 131, 23, 22, 13, 76], [46, 68, 8, 450, 15, 451, 35, 452, 236, 41, 46, 47, 29], [453, 237, 13, 454, 69, 229, 52, 5, 164, 48, 13, 127, 55, 1, 238], [8, 1, 455, 9, 73, 6, 19, 456, 457], [15, 15, 15, 60, 1, 131, 97, 239, 3, 240, 241, 82, 71, 35], [242, 243, 165, 458, 57, 22, 51, 9, 2, 56, 459, 82, 105, 24, 121], [244, 166, 1, 460, 8, 1, 245, 246, 47, 42, 14, 60, 24, 247], [461, 243, 15, 13, 46, 9, 17, 16, 42, 11, 21, 462, 248], [106, 8, 22, 167, 10, 12, 463, 10, 1, 464, 4, 249, 22], [6, 31, 7, 19, 107, 465, 17, 466, 55, 12, 467, 23, 45], [6, 38, 37, 3, 468, 3, 12, 250, 5, 6, 107, 469, 3, 69, 5, 155], [251, 470, 252, 52, 1, 108, 253, 18, 77, 13, 71, 44, 254], [32, 255, 165, 132, 3, 9, 11, 21, 38, 471, 44, 254, 6, 32], [255, 78, 18, 49, 72, 54, 168, 472, 169, 3, 69], [473, 2, 109, 101, 82, 71, 48, 13, 76, 131, 108, 63, 1], [245, 35, 256, 170, 257, 3, 239, 30, 258, 1, 133, 14, 259, 27], [260, 474, 475, 1, 476, 13, 46, 9, 2, 6, 171, 477], [45, 6, 38, 37, 478, 22, 51, 23, 5, 261, 479, 29, 41, 1], [108, 480, 251, 18, 13, 76, 218, 3, 172, 110, 44, 1, 481, 8, 1, 482], [66, 16, 173, 262, 483, 66, 22, 263, 484, 32, 485, 9, 4], [2, 103, 3, 486, 23, 2, 487, 264, 488, 23, 489, 225], [63, 1, 265, 59, 16, 46, 16, 50, 174, 5, 75, 44, 240], [490, 26, 266, 491, 46, 47, 17, 492, 38, 170, 97, 59, 3], [172, 267, 13, 76, 42, 5, 493, 34, 244, 9], [15, 15, 15, 45, 6, 68, 494, 3, 59, 25, 11, 134, 109], [268, 101, 495, 496, 47, 19, 61, 3, 497, 13, 269, 46, 9], [135, 6, 1, 498, 82, 499, 236, 175, 12, 500, 8, 501, 29], [502, 51, 135, 83, 123, 13, 270, 16, 54, 15, 129, 27, 47, 45, 503, 38], [504, 10, 1, 265, 136, 505, 18, 16, 111, 506, 7, 271, 4, 252, 19], [36, 7, 507, 16, 173, 18, 59, 137, 84, 138, 13, 71, 9, 4, 129, 11], [109, 3, 58, 171, 209, 4, 53, 20, 272, 3, 33, 10, 7, 508], [167, 8, 28, 273, 137, 84, 138, 59, 137, 84, 138, 9, 4, 274, 273], [138, 84, 137, 9, 17, 16, 42, 23, 2, 509, 510, 78, 511], [5, 261, 61, 512, 73, 28, 2, 162, 5, 2, 176, 14, 2, 6, 513], [55, 4, 21, 126, 275, 3, 514, 14, 2, 6, 515, 139, 10, 139, 27], [135, 4, 272, 3, 12, 19, 516, 276, 135, 277, 47, 1, 517], [154, 16, 85, 84, 7, 271, 9, 40, 93, 278, 278, 15, 2, 86, 130], [7, 518, 8, 519, 4, 520, 521, 4, 1, 131, 6, 155], [11, 6, 31, 7, 279, 522, 4, 2, 523, 34, 20, 3, 12, 62, 10, 7, 79], [2, 96, 34, 18, 5, 6, 41, 160, 524, 98, 12, 6, 158], [177, 178, 4, 1, 94, 39, 6, 250, 10, 280, 525, 15, 5], [45, 6, 31, 7, 79, 3, 24, 526, 147, 53, 11, 36, 1, 527, 4], [6, 126, 10, 51, 3, 215, 5, 69, 23, 5, 281, 7, 282, 122, 83, 283], [4, 528, 35, 216, 179, 121, 9, 2, 6, 214, 284, 5, 40, 2], [281, 1, 282, 18, 1, 39, 6, 38, 529, 3, 24, 157, 2, 70], [33, 10, 7, 177, 180, 87, 73, 6, 530, 34, 57, 7, 531, 8, 532, 533], [161, 1, 285], [45, 54, 286, 41, 140, 1, 87, 18, 72, 54, 41, 534, 4, 40], [11, 21, 535, 41, 1, 28, 15, 37, 287, 4, 34, 1, 181, 182, 288], [64, 2, 536, 537, 15, 1, 538, 539, 35, 2, 6, 85, 3], [58, 30, 101], [93, 2, 86, 130, 7, 26, 540, 541, 112, 41, 207, 8, 542], [183, 45, 6, 68, 20, 5, 543, 7, 544, 141, 74, 4, 65], [128, 49, 6, 14, 5, 111, 545, 3, 37, 8, 1, 286, 8, 1, 87], [18, 289, 78, 1, 546, 54, 81, 100, 32, 1, 74, 6, 81, 184], [18, 29, 113, 290, 5, 60, 31, 547, 113, 8, 110, 185, 20, 1, 548], [51, 140, 2, 86, 130, 7, 180, 549, 2, 21, 31, 230, 98, 4], [284, 5, 6, 7, 26, 64, 52, 550, 186, 187, 2, 103, 1], [26, 141, 74, 10, 1, 551, 4, 3, 12, 104, 552, 5, 553], [11, 291, 1, 64, 4, 70, 14, 5, 554, 43, 7, 184, 178, 31], [61, 292, 188, 7, 555, 119, 2, 556, 15, 4, 96, 293, 1, 178], [43, 1, 557, 88, 16, 85, 233, 35, 2, 558, 3, 58, 30, 8], [14, 160, 87, 4, 559, 52, 258, 294, 560, 8, 561, 562, 4], [294, 563, 564, 18, 2, 50, 31, 164, 58, 12, 142, 63, 1], [565, 75, 164, 48, 83, 142, 60, 89, 63, 9, 49, 90, 11, 566], [60, 24, 8, 19, 26, 67, 567, 83, 568, 124, 35, 13, 270, 13, 50], [569, 34, 36, 7, 295, 13, 46, 13, 50, 48, 13, 296, 570, 35, 3, 571, 9], [17, 16, 42, 25, 242, 30, 8, 1, 28, 106, 21, 297, 572], [14, 11, 21, 275, 3, 46, 14, 19, 298, 106, 299, 54, 573], [45, 125, 3, 24, 38, 67, 10, 300, 57, 1, 26, 64, 25, 2, 53], [301, 3, 1, 112, 302, 574, 2, 111, 303, 158, 74, 20, 5, 32, 29], [113, 290, 7, 120, 8, 304, 17, 305, 133, 34, 36, 575, 22], [51, 2, 70, 7, 26, 143, 20, 5, 306, 576, 6, 31, 129], [98, 9, 56, 11, 4, 140, 1, 577, 8, 1, 143, 6, 7, 578], [579, 27, 1, 169, 307, 308, 309, 580, 20, 5, 10, 100], [5, 6, 41, 19, 92, 3, 69, 307, 47, 9, 18, 1, 581, 26, 11, 6], [31, 80, 3, 59, 14, 10, 7, 310, 582, 144, 102, 128, 9, 2, 56, 75], [42, 211, 179, 145, 583, 32, 584, 17, 2, 21, 585, 248, 168], [26, 586, 52, 587, 311, 21, 132, 588, 4, 589, 34, 57, 590], [591, 4, 181, 592, 106, 41, 593, 72, 60, 31, 175], [1, 594, 304, 260, 595, 21, 596, 110, 163, 23, 14, 7, 597, 152], [598, 189, 599, 16, 48, 16, 600, 5, 81, 177, 4, 14, 48, 16, 601, 312], [602, 19, 603, 27, 7, 604, 5, 605, 606, 4, 2, 21, 97], [313, 14, 48, 16, 607, 61, 161, 7, 143, 145, 314, 9, 5, 66], [146, 608, 3, 609, 27, 16, 610, 32, 611], [185, 22, 143, 6, 31, 145, 314, 9, 25, 11, 612, 3, 613], [5, 4, 315, 5, 19, 168, 5, 21, 10, 316, 7, 167, 8, 614, 615], [8, 616, 617, 618, 619, 620, 621, 622, 623, 4, 152], [624, 625, 2, 19, 134, 317, 5, 55], [], [], [], [626, 7, 318, 627, 9, 56, 11, 82, 105, 24, 305, 34, 36, 7], [4, 25, 5, 6, 299, 2, 6, 114, 296, 628, 186, 187, 4, 12, 629], [630, 34, 29, 1, 49, 14, 2, 6, 114, 1, 108, 319, 17, 80], [63, 1, 26, 64, 43, 14, 631, 88, 128, 185, 2], [632, 17, 7, 298, 633, 3, 42, 48, 2, 6, 80, 3, 634, 113, 635], [2, 176, 7, 26, 636, 52, 22, 637, 5, 111, 241, 16, 173, 9, 56], [11, 3, 33, 638, 83, 80, 30, 639, 36, 7, 190, 13, 71], [44, 13, 269, 24, 36, 77, 9, 4, 2, 103, 3, 264, 44, 1, 640, 8, 7], [190, 66, 36, 99, 1, 190, 66, 641, 30, 17, 2, 50, 31, 175], [85, 149, 157, 163, 7, 320], [99, 7, 642, 315, 14, 68, 191, 297, 2, 643, 20, 80], [43, 1, 88, 29, 91, 18, 289, 17, 90, 11, 40, 2, 132, 3, 1], [64, 2, 70, 2, 21, 313, 1, 26, 141, 74, 4, 40, 2], [53, 301, 3, 1, 112, 17, 5, 2, 70, 2, 50, 31, 644, 321], [5, 2, 50, 42, 5, 95, 645, 63, 1, 183, 4, 2, 103, 12], [322, 3, 646, 34, 37, 8, 1, 647, 8, 1, 112, 18, 5, 6, 81, 648], [4, 40, 2, 21, 203, 33, 30, 27, 182, 1, 90, 26, 320], [323, 15, 4, 324], [649, 325, 38, 67, 10, 326, 36, 14, 9, 56, 11, 3, 33], [171, 650, 82, 651, 16, 3, 652, 55, 22, 653, 9, 2, 327], [654, 33, 19, 107, 655, 249, 2, 19, 656, 657, 5], [4, 274, 2, 658, 33, 25, 659, 23, 3, 660, 192, 43], [12, 153, 4, 91, 2, 661, 182, 3, 328, 12, 151, 283, 17, 149], [662, 33, 10, 7, 663, 8, 664, 2, 6, 665, 329, 33], [17, 22, 318, 666, 6, 19, 667, 8, 668, 3, 24, 330, 133], [669, 179, 38, 67, 114, 9, 49, 90, 11, 331, 670, 3, 24, 330, 133], [237, 325, 671, 672, 8, 47, 673, 3, 227, 37, 674, 675, 9], [134, 12, 332, 127, 20, 7, 26, 183, 328, 14, 6, 333, 118, 1, 112], [2, 291, 5, 4, 70, 10, 5, 7, 19, 184, 193, 20, 73, 1, 169], [676, 308, 54, 309, 145, 10, 677, 235, 144, 84, 5, 9, 56], [11, 75, 48, 5, 334, 47, 335, 292, 13, 194, 321, 1, 74, 4, 48, 5], [334, 47, 335, 678, 13, 194, 679, 118, 1, 64, 25, 78, 28, 144], [58, 43, 1, 88, 4, 13, 680, 681, 73, 336, 9], [2, 682, 7, 26, 279, 4, 56, 683, 3, 33, 306, 28, 73], [28, 9, 684, 12, 139, 20, 1, 238, 8, 12, 142, 3, 208, 73, 28, 5, 6], [685, 4, 2, 6, 95, 337, 3, 303, 14, 2, 686, 1, 338], [319, 3, 24, 339, 22, 327, 336, 40, 37, 687, 193, 18, 11], [21, 132, 25, 61, 43, 1, 28, 8, 688, 68, 18, 30, 8, 1, 28], [106, 3, 226, 14, 5, 125, 95, 689, 4, 210, 17, 690, 3, 89, 20], [10, 1, 691, 28], [25, 2, 201, 3, 692, 4, 19, 134, 317, 55, 1, 193], [], [], [], [202, 693, 1, 340, 8, 192], [694, 4, 695, 9, 324, 11, 2, 6, 25, 61, 337, 14], [17, 1, 79, 2, 95, 696, 35, 3, 697, 107, 698, 276, 136], [699, 30, 36, 1, 700, 295, 14, 85, 6, 107, 701, 62, 9], [17, 40, 2, 96, 15, 29, 12, 62, 72, 125, 3, 24, 146, 30, 8], [280, 72, 54, 121, 25, 341, 55, 122, 83, 90, 26, 62, 13, 71], [311, 189, 162, 20, 312, 702, 4, 703, 17, 16, 114, 704, 136, 339], [13, 705, 24, 706, 13, 76, 24, 7, 104, 707, 81, 341, 55, 3, 212], [708, 52, 16, 16, 105, 174, 1, 322, 28, 16, 194, 18, 13, 105, 24], [709, 3, 110, 9, 49, 11, 710, 267, 72, 342, 259, 1, 28, 13, 711], [3, 89, 246, 47, 42, 144, 198, 110, 7, 263, 343, 8, 712, 288, 713, 9], [4, 2, 53, 20, 714, 3, 33, 35, 2, 60, 174, 5, 715, 105], [89, 57, 1, 716, 9, 2, 49, 75, 35, 256, 170, 257, 717], [718, 3, 719, 151, 62, 4, 35, 720, 1, 721, 189, 102], [65, 108, 722, 723], [724], [166, 1, 725], [27, 65, 726], [124, 123, 44, 727, 136, 268, 9], [126, 77, 12, 142, 728, 329, 1, 285, 8, 1, 87, 10, 316, 2, 6], [114, 191, 188, 729, 62, 187, 4, 2, 29, 91, 156, 34, 1, 26, 141], [74, 4, 222, 55, 3, 1, 88, 64], [90, 11, 5, 6, 23, 61, 23, 2, 50, 59, 333, 15, 20, 37, 287, 3], [102, 63, 43, 1, 88, 27, 37, 332, 18, 3, 58, 63, 6, 191], [730, 188, 85, 2, 323, 15, 4, 109, 3, 731, 101], [732, 217, 3, 24, 733, 8, 734, 9, 56, 11, 735, 104, 266, 36], [16, 9, 2, 111, 92, 69, 22, 331, 89, 20, 326, 10, 22, 28, 736, 22], [79, 13, 277, 16, 9, 18, 2, 53, 20, 41, 1, 338, 737, 738, 8], [192, 739, 45, 6, 7, 100, 340, 41, 140, 12, 52, 247, 186], [159, 4, 740, 302, 15, 1, 87], [99, 7, 51, 2, 741, 7, 26, 742, 8, 62, 10, 1, 253, 4], [2, 743, 744, 12, 153, 3, 42, 44, 6, 228, 5, 6, 1, 94], [39, 745, 746, 747, 27, 7, 343, 8, 94, 344, 345, 10], [37, 139, 4, 7, 100, 346, 10, 1, 181, 195, 86, 748, 293, 10, 7, 104], [310, 749, 3, 750, 23, 195, 86, 122, 1, 347, 1, 347], [124, 342, 2, 24, 751, 48, 165, 752, 12, 300, 9, 11, 176, 25], [753, 14, 2, 6, 754, 3, 172, 755, 8, 113, 37, 25, 40, 1, 39], [86, 166, 12, 2, 109, 10, 7, 180, 756, 757, 758, 16, 262, 759, 9], [1, 39, 223, 760, 761, 1, 94, 344, 345, 4, 1, 346], [4, 762, 147, 43, 1, 763, 23, 764, 23, 195, 50, 89]]\n",
      "corpus.shape=(227,)\n"
     ]
    }
   ],
   "source": [
    "from keras.preprocessing.text import Tokenizer\n",
    "\n",
    "tokenizer = Tokenizer()\n",
    "tokenizer.fit_on_texts(corpus)\n",
    "corpus = tokenizer.texts_to_sequences(corpus)\n",
    "print(\"corpus = {cps}\".format(cps=corpus))\n",
    "print(\"corpus.shape={len}\".format(len=np.array(corpus).shape))"
   ]
  },
  {
   "cell_type": "code",
   "execution_count": 58,
   "metadata": {},
   "outputs": [
    {
     "name": "stdout",
     "output_type": "stream",
     "text": [
      "text = You say goodbye and I say hello .\n",
      "corpus = ['you', 'say', 'goodbye', 'and', 'i', 'say', 'hello', '.']\n",
      "--------------------\n",
      "corpus = [[1], [2], [8], [], [4], [3], [1], [], [9], [2], [2], [5], [10], [1], [6], [], [3], [11], [5], [], [12], [], [4], [3], [1], [], [13], [6], [7], [7], [2], [], []]\n",
      "corpus.shape=(33,)\n",
      "matrix = [[0. 1. 0. 0. 0. 0. 0. 0. 0. 0. 0. 0. 0. 0.]\n",
      " [0. 0. 1. 0. 0. 0. 0. 0. 0. 0. 0. 0. 0. 0.]\n",
      " [0. 0. 0. 0. 0. 0. 0. 0. 1. 0. 0. 0. 0. 0.]\n",
      " [0. 0. 0. 0. 0. 0. 0. 0. 0. 0. 0. 0. 0. 0.]\n",
      " [0. 0. 0. 0. 1. 0. 0. 0. 0. 0. 0. 0. 0. 0.]\n",
      " [0. 0. 0. 1. 0. 0. 0. 0. 0. 0. 0. 0. 0. 0.]\n",
      " [0. 1. 0. 0. 0. 0. 0. 0. 0. 0. 0. 0. 0. 0.]\n",
      " [0. 0. 0. 0. 0. 0. 0. 0. 0. 0. 0. 0. 0. 0.]\n",
      " [0. 0. 0. 0. 0. 0. 0. 0. 0. 1. 0. 0. 0. 0.]\n",
      " [0. 0. 1. 0. 0. 0. 0. 0. 0. 0. 0. 0. 0. 0.]\n",
      " [0. 0. 1. 0. 0. 0. 0. 0. 0. 0. 0. 0. 0. 0.]\n",
      " [0. 0. 0. 0. 0. 1. 0. 0. 0. 0. 0. 0. 0. 0.]\n",
      " [0. 0. 0. 0. 0. 0. 0. 0. 0. 0. 1. 0. 0. 0.]\n",
      " [0. 1. 0. 0. 0. 0. 0. 0. 0. 0. 0. 0. 0. 0.]\n",
      " [0. 0. 0. 0. 0. 0. 1. 0. 0. 0. 0. 0. 0. 0.]\n",
      " [0. 0. 0. 0. 0. 0. 0. 0. 0. 0. 0. 0. 0. 0.]\n",
      " [0. 0. 0. 1. 0. 0. 0. 0. 0. 0. 0. 0. 0. 0.]\n",
      " [0. 0. 0. 0. 0. 0. 0. 0. 0. 0. 0. 1. 0. 0.]\n",
      " [0. 0. 0. 0. 0. 1. 0. 0. 0. 0. 0. 0. 0. 0.]\n",
      " [0. 0. 0. 0. 0. 0. 0. 0. 0. 0. 0. 0. 0. 0.]\n",
      " [0. 0. 0. 0. 0. 0. 0. 0. 0. 0. 0. 0. 1. 0.]\n",
      " [0. 0. 0. 0. 0. 0. 0. 0. 0. 0. 0. 0. 0. 0.]\n",
      " [0. 0. 0. 0. 1. 0. 0. 0. 0. 0. 0. 0. 0. 0.]\n",
      " [0. 0. 0. 1. 0. 0. 0. 0. 0. 0. 0. 0. 0. 0.]\n",
      " [0. 1. 0. 0. 0. 0. 0. 0. 0. 0. 0. 0. 0. 0.]\n",
      " [0. 0. 0. 0. 0. 0. 0. 0. 0. 0. 0. 0. 0. 0.]\n",
      " [0. 0. 0. 0. 0. 0. 0. 0. 0. 0. 0. 0. 0. 1.]\n",
      " [0. 0. 0. 0. 0. 0. 1. 0. 0. 0. 0. 0. 0. 0.]\n",
      " [0. 0. 0. 0. 0. 0. 0. 1. 0. 0. 0. 0. 0. 0.]\n",
      " [0. 0. 0. 0. 0. 0. 0. 1. 0. 0. 0. 0. 0. 0.]\n",
      " [0. 0. 1. 0. 0. 0. 0. 0. 0. 0. 0. 0. 0. 0.]\n",
      " [0. 0. 0. 0. 0. 0. 0. 0. 0. 0. 0. 0. 0. 0.]\n",
      " [0. 0. 0. 0. 0. 0. 0. 0. 0. 0. 0. 0. 0. 0.]]\n"
     ]
    }
   ],
   "source": [
    "# https://keras.io/ja/preprocessing/text/\n",
    "from keras.preprocessing.text import Tokenizer\n",
    "from keras.preprocessing.text import text_to_word_sequence\n",
    "\n",
    "text = 'You say goodbye and I say hello.'\n",
    "text = text.replace('.', ' .') # ピリオドを分割するため\n",
    "print(\"text = {txt}\".format(txt=text))\n",
    "\n",
    "# 単語に分割するだけなら text_to_word_sequence 関数で実行できる\n",
    "# ピリオドをフィルタされたくないので，デフォルト値からピリオドを除いた値を与える\n",
    "corpus = text_to_word_sequence(text, filters='!\"#$%&()*+,-/:;<=>?@[\\\\]^_`{|}~\\t\\n')\n",
    "print(\"corpus = {cps}\".format(cps=corpus))\n",
    "\n",
    "print(\"-\"*20)\n",
    "\n",
    "# ベクトル化のため，keras の Tokenizer クラスを使いたい\n",
    "# 単語がアルファベットレベルまで分割されてしまう??\n",
    "tokenizer = Tokenizer()\n",
    "tokenizer.fit_on_texts(text)\n",
    "corpus2 = tokenizer.texts_to_sequences(text)\n",
    "matrix = tokenizer.texts_to_matrix(text)\n",
    "print(\"corpus = {cps}\".format(cps=corpus2))\n",
    "print(\"corpus.shape={len}\".format(len=np.array(corpus2).shape))\n",
    "print(\"matrix = {mtr}\".format(mtr=matrix))\n"
   ]
  }
 ],
 "metadata": {
  "kernelspec": {
   "display_name": "Python 3",
   "language": "python",
   "name": "python3"
  },
  "language_info": {
   "codemirror_mode": {
    "name": "ipython",
    "version": 3
   },
   "file_extension": ".py",
   "mimetype": "text/x-python",
   "name": "python",
   "nbconvert_exporter": "python",
   "pygments_lexer": "ipython3",
   "version": "3.6.4"
  },
  "toc": {
   "base_numbering": 1,
   "nav_menu": {},
   "number_sections": false,
   "sideBar": true,
   "skip_h1_title": false,
   "title_cell": "Table of Contents",
   "title_sidebar": "Contents",
   "toc_cell": false,
   "toc_position": {},
   "toc_section_display": true,
   "toc_window_display": true
  }
 },
 "nbformat": 4,
 "nbformat_minor": 2
}
